{
 "cells": [
  {
   "cell_type": "code",
   "execution_count": 2,
   "id": "74270717-606f-471c-b1e4-7ce301b300b7",
   "metadata": {},
   "outputs": [],
   "source": [
    "import pandas as pd\n",
    "import numpy as np\n"
   ]
  },
  {
   "cell_type": "code",
   "execution_count": 1,
   "id": "7a69111f-29ba-40a7-9b3b-d2417698d5fd",
   "metadata": {},
   "outputs": [
    {
     "ename": "NameError",
     "evalue": "name 'pd' is not defined",
     "output_type": "error",
     "traceback": [
      "\u001b[1;31m---------------------------------------------------------------------------\u001b[0m",
      "\u001b[1;31mNameError\u001b[0m                                 Traceback (most recent call last)",
      "Cell \u001b[1;32mIn[1], line 1\u001b[0m\n\u001b[1;32m----> 1\u001b[0m df\u001b[38;5;241m=\u001b[39m\u001b[43mpd\u001b[49m\u001b[38;5;241m.\u001b[39mread_csv(\u001b[38;5;124m\"\u001b[39m\u001b[38;5;124mC:/Users/sahil.patil/Downloads/Revenue Model.csv\u001b[39m\u001b[38;5;124m\"\u001b[39m, index_col\u001b[38;5;241m=\u001b[39m\u001b[38;5;124m'\u001b[39m\u001b[38;5;124mDATE\u001b[39m\u001b[38;5;124m'\u001b[39m,parse_dates\u001b[38;5;241m=\u001b[39m\u001b[38;5;28;01mTrue\u001b[39;00m)\n\u001b[0;32m      2\u001b[0m df\u001b[38;5;241m=\u001b[39mdf\u001b[38;5;241m.\u001b[39mdropna()\n\u001b[0;32m      3\u001b[0m \u001b[38;5;28mprint\u001b[39m(\u001b[38;5;124m'\u001b[39m\u001b[38;5;124mShape of data\u001b[39m\u001b[38;5;124m'\u001b[39m,df\u001b[38;5;241m.\u001b[39mshape)\n",
      "\u001b[1;31mNameError\u001b[0m: name 'pd' is not defined"
     ]
    }
   ],
   "source": []
  },
  {
   "cell_type": "code",
   "execution_count": 4,
   "id": "45724b1f-0100-487b-a1be-519035c142f7",
   "metadata": {},
   "outputs": [
    {
     "name": "stdout",
     "output_type": "stream",
     "text": [
      "Shape of data (365, 1)\n"
     ]
    },
    {
     "data": {
      "text/html": [
       "<div>\n",
       "<style scoped>\n",
       "    .dataframe tbody tr th:only-of-type {\n",
       "        vertical-align: middle;\n",
       "    }\n",
       "\n",
       "    .dataframe tbody tr th {\n",
       "        vertical-align: top;\n",
       "    }\n",
       "\n",
       "    .dataframe thead th {\n",
       "        text-align: right;\n",
       "    }\n",
       "</style>\n",
       "<table border=\"1\" class=\"dataframe\">\n",
       "  <thead>\n",
       "    <tr style=\"text-align: right;\">\n",
       "      <th></th>\n",
       "      <th>Sales</th>\n",
       "    </tr>\n",
       "    <tr>\n",
       "      <th>Date</th>\n",
       "      <th></th>\n",
       "    </tr>\n",
       "  </thead>\n",
       "  <tbody>\n",
       "    <tr>\n",
       "      <th>01-01-2022</th>\n",
       "      <td>1483638.26</td>\n",
       "    </tr>\n",
       "    <tr>\n",
       "      <th>02-01-2022</th>\n",
       "      <td>1642899.33</td>\n",
       "    </tr>\n",
       "    <tr>\n",
       "      <th>03-01-2022</th>\n",
       "      <td>2155423.65</td>\n",
       "    </tr>\n",
       "    <tr>\n",
       "      <th>04-01-2022</th>\n",
       "      <td>2277091.77</td>\n",
       "    </tr>\n",
       "    <tr>\n",
       "      <th>05-01-2022</th>\n",
       "      <td>2210487.22</td>\n",
       "    </tr>\n",
       "  </tbody>\n",
       "</table>\n",
       "</div>"
      ],
      "text/plain": [
       "                 Sales\n",
       "Date                  \n",
       "01-01-2022  1483638.26\n",
       "02-01-2022  1642899.33\n",
       "03-01-2022  2155423.65\n",
       "04-01-2022  2277091.77\n",
       "05-01-2022  2210487.22"
      ]
     },
     "execution_count": 4,
     "metadata": {},
     "output_type": "execute_result"
    }
   ],
   "source": [
    "df=pd.read_csv(\"C:/Users/sahil.patil/Downloads/Revenue Model.csv\", index_col='Date',parse_dates=True)\n",
    "df=df.dropna()\n",
    "print('Shape of data',df.shape)\n",
    "df.head()"
   ]
  },
  {
   "cell_type": "code",
   "execution_count": 2,
   "id": "28f0553a-9e33-4402-ac74-d98bbbd7a60c",
   "metadata": {},
   "outputs": [
    {
     "ename": "NameError",
     "evalue": "name 'data' is not defined",
     "output_type": "error",
     "traceback": [
      "\u001b[1;31m---------------------------------------------------------------------------\u001b[0m",
      "\u001b[1;31mNameError\u001b[0m                                 Traceback (most recent call last)",
      "Cell \u001b[1;32mIn[2], line 1\u001b[0m\n\u001b[1;32m----> 1\u001b[0m ax \u001b[38;5;241m=\u001b[39m \u001b[43mdata\u001b[49m\u001b[38;5;241m.\u001b[39mplot()\n\u001b[0;32m      2\u001b[0m ax\u001b[38;5;241m.\u001b[39myaxis\u001b[38;5;241m.\u001b[39mset_major_formatter(FuncFormatter(y_format))\n\u001b[0;32m      4\u001b[0m df[\u001b[38;5;124m'\u001b[39m\u001b[38;5;124mSales\u001b[39m\u001b[38;5;124m'\u001b[39m]\u001b[38;5;241m.\u001b[39mplot(figsize\u001b[38;5;241m=\u001b[39m(\u001b[38;5;241m12\u001b[39m,\u001b[38;5;241m5\u001b[39m))\n",
      "\u001b[1;31mNameError\u001b[0m: name 'data' is not defined"
     ]
    }
   ],
   "source": [
    "ax = data.plot()\n",
    "ax.yaxis.set_major_formatter(FuncFormatter(y_format))\n",
    "df['Sales'].plot(figsize=(12,5))\n"
   ]
  },
  {
   "cell_type": "code",
   "execution_count": 10,
   "id": "4262a116-6a28-471e-abca-c1ceac91b977",
   "metadata": {},
   "outputs": [],
   "source": [
    "from statsmodels.tsa.stattools import adfuller\n",
    "\n",
    "def adf_test(Sales):\n",
    "  dftest = adfuller(Sales, autolag = 'AIC')\n",
    "  print(\"1. ADF : \",dftest[0])\n",
    "  print(\"2. P-Value : \", dftest[1])\n",
    "  print(\"3. Num Of Lags : \", dftest[2])\n",
    "  print(\"4. Num Of Observations Used For ADF Regression and Critical Values Calculation :\", dftest[3])\n",
    "  print(\"5. Critical Values :\")\n",
    "  for key, val in dftest[4].items():\n",
    "      print(\"\\t\",key, \": \", val)"
   ]
  },
  {
   "cell_type": "code",
   "execution_count": 11,
   "id": "a925ca59-67bc-4512-bcae-8ea2174c316c",
   "metadata": {},
   "outputs": [
    {
     "name": "stdout",
     "output_type": "stream",
     "text": [
      "1. ADF :  -3.293665070241031\n",
      "2. P-Value :  0.015164031728242034\n",
      "3. Num Of Lags :  15\n",
      "4. Num Of Observations Used For ADF Regression and Critical Values Calculation : 349\n",
      "5. Critical Values :\n",
      "\t 1% :  -3.449226932880019\n",
      "\t 5% :  -2.869857365438656\n",
      "\t 10% :  -2.571201085130664\n"
     ]
    }
   ],
   "source": [
    "adf_test(df['Sales'])"
   ]
  },
  {
   "cell_type": "code",
   "execution_count": 14,
   "id": "6a34c823-bc4a-475d-ab70-11f3d33ca40c",
   "metadata": {},
   "outputs": [],
   "source": [
    "from pmdarima import auto_arima\n",
    "# Ignore harmless warnings\n",
    "import warnings\n",
    "warnings.filterwarnings(\"ignore\")"
   ]
  },
  {
   "cell_type": "code",
   "execution_count": 15,
   "id": "f672ab87-4c2c-464d-82d3-696a67e21e9f",
   "metadata": {},
   "outputs": [
    {
     "data": {
      "text/html": [
       "<table class=\"simpletable\">\n",
       "<caption>SARIMAX Results</caption>\n",
       "<tr>\n",
       "  <th>Dep. Variable:</th>           <td>y</td>        <th>  No. Observations:  </th>    <td>365</td>   \n",
       "</tr>\n",
       "<tr>\n",
       "  <th>Model:</th>           <td>SARIMAX(0, 1, 2)</td> <th>  Log Likelihood     </th> <td>-5143.162</td>\n",
       "</tr>\n",
       "<tr>\n",
       "  <th>Date:</th>            <td>Mon, 05 Aug 2024</td> <th>  AIC                </th> <td>10292.324</td>\n",
       "</tr>\n",
       "<tr>\n",
       "  <th>Time:</th>                <td>13:21:11</td>     <th>  BIC                </th> <td>10304.015</td>\n",
       "</tr>\n",
       "<tr>\n",
       "  <th>Sample:</th>                  <td>0</td>        <th>  HQIC               </th> <td>10296.970</td>\n",
       "</tr>\n",
       "<tr>\n",
       "  <th></th>                      <td> - 365</td>      <th>                     </th>     <td> </td>    \n",
       "</tr>\n",
       "<tr>\n",
       "  <th>Covariance Type:</th>        <td>opg</td>       <th>                     </th>     <td> </td>    \n",
       "</tr>\n",
       "</table>\n",
       "<table class=\"simpletable\">\n",
       "<tr>\n",
       "     <td></td>       <th>coef</th>     <th>std err</th>      <th>z</th>      <th>P>|z|</th>  <th>[0.025</th>    <th>0.975]</th>  \n",
       "</tr>\n",
       "<tr>\n",
       "  <th>ma.L1</th>  <td>   -0.2607</td> <td>    0.036</td> <td>   -7.162</td> <td> 0.000</td> <td>   -0.332</td> <td>   -0.189</td>\n",
       "</tr>\n",
       "<tr>\n",
       "  <th>ma.L2</th>  <td>   -0.6174</td> <td>    0.044</td> <td>  -14.189</td> <td> 0.000</td> <td>   -0.703</td> <td>   -0.532</td>\n",
       "</tr>\n",
       "<tr>\n",
       "  <th>sigma2</th> <td> 1.019e+11</td> <td> 3.07e-14</td> <td> 3.32e+24</td> <td> 0.000</td> <td> 1.02e+11</td> <td> 1.02e+11</td>\n",
       "</tr>\n",
       "</table>\n",
       "<table class=\"simpletable\">\n",
       "<tr>\n",
       "  <th>Ljung-Box (L1) (Q):</th>     <td>2.83</td> <th>  Jarque-Bera (JB):  </th> <td>35.52</td>\n",
       "</tr>\n",
       "<tr>\n",
       "  <th>Prob(Q):</th>                <td>0.09</td> <th>  Prob(JB):          </th> <td>0.00</td> \n",
       "</tr>\n",
       "<tr>\n",
       "  <th>Heteroskedasticity (H):</th> <td>1.37</td> <th>  Skew:              </th> <td>0.17</td> \n",
       "</tr>\n",
       "<tr>\n",
       "  <th>Prob(H) (two-sided):</th>    <td>0.08</td> <th>  Kurtosis:          </th> <td>4.49</td> \n",
       "</tr>\n",
       "</table><br/><br/>Warnings:<br/>[1] Covariance matrix calculated using the outer product of gradients (complex-step).<br/>[2] Covariance matrix is singular or near-singular, with condition number 4.98e+40. Standard errors may be unstable."
      ],
      "text/latex": [
       "\\begin{center}\n",
       "\\begin{tabular}{lclc}\n",
       "\\toprule\n",
       "\\textbf{Dep. Variable:}          &        y         & \\textbf{  No. Observations:  } &    365      \\\\\n",
       "\\textbf{Model:}                  & SARIMAX(0, 1, 2) & \\textbf{  Log Likelihood     } & -5143.162   \\\\\n",
       "\\textbf{Date:}                   & Mon, 05 Aug 2024 & \\textbf{  AIC                } & 10292.324   \\\\\n",
       "\\textbf{Time:}                   &     13:21:11     & \\textbf{  BIC                } & 10304.015   \\\\\n",
       "\\textbf{Sample:}                 &        0         & \\textbf{  HQIC               } & 10296.970   \\\\\n",
       "\\textbf{}                        &       - 365      & \\textbf{                     } &             \\\\\n",
       "\\textbf{Covariance Type:}        &       opg        & \\textbf{                     } &             \\\\\n",
       "\\bottomrule\n",
       "\\end{tabular}\n",
       "\\begin{tabular}{lcccccc}\n",
       "                & \\textbf{coef} & \\textbf{std err} & \\textbf{z} & \\textbf{P$> |$z$|$} & \\textbf{[0.025} & \\textbf{0.975]}  \\\\\n",
       "\\midrule\n",
       "\\textbf{ma.L1}  &      -0.2607  &        0.036     &    -7.162  &         0.000        &       -0.332    &       -0.189     \\\\\n",
       "\\textbf{ma.L2}  &      -0.6174  &        0.044     &   -14.189  &         0.000        &       -0.703    &       -0.532     \\\\\n",
       "\\textbf{sigma2} &    1.019e+11  &     3.07e-14     &  3.32e+24  &         0.000        &     1.02e+11    &     1.02e+11     \\\\\n",
       "\\bottomrule\n",
       "\\end{tabular}\n",
       "\\begin{tabular}{lclc}\n",
       "\\textbf{Ljung-Box (L1) (Q):}     & 2.83 & \\textbf{  Jarque-Bera (JB):  } & 35.52  \\\\\n",
       "\\textbf{Prob(Q):}                & 0.09 & \\textbf{  Prob(JB):          } &  0.00  \\\\\n",
       "\\textbf{Heteroskedasticity (H):} & 1.37 & \\textbf{  Skew:              } &  0.17  \\\\\n",
       "\\textbf{Prob(H) (two-sided):}    & 0.08 & \\textbf{  Kurtosis:          } &  4.49  \\\\\n",
       "\\bottomrule\n",
       "\\end{tabular}\n",
       "%\\caption{SARIMAX Results}\n",
       "\\end{center}\n",
       "\n",
       "Warnings: \\newline\n",
       " [1] Covariance matrix calculated using the outer product of gradients (complex-step). \\newline\n",
       " [2] Covariance matrix is singular or near-singular, with condition number 4.98e+40. Standard errors may be unstable."
      ],
      "text/plain": [
       "<class 'statsmodels.iolib.summary.Summary'>\n",
       "\"\"\"\n",
       "                               SARIMAX Results                                \n",
       "==============================================================================\n",
       "Dep. Variable:                      y   No. Observations:                  365\n",
       "Model:               SARIMAX(0, 1, 2)   Log Likelihood               -5143.162\n",
       "Date:                Mon, 05 Aug 2024   AIC                          10292.324\n",
       "Time:                        13:21:11   BIC                          10304.015\n",
       "Sample:                             0   HQIC                         10296.970\n",
       "                                - 365                                         \n",
       "Covariance Type:                  opg                                         \n",
       "==============================================================================\n",
       "                 coef    std err          z      P>|z|      [0.025      0.975]\n",
       "------------------------------------------------------------------------------\n",
       "ma.L1         -0.2607      0.036     -7.162      0.000      -0.332      -0.189\n",
       "ma.L2         -0.6174      0.044    -14.189      0.000      -0.703      -0.532\n",
       "sigma2      1.019e+11   3.07e-14   3.32e+24      0.000    1.02e+11    1.02e+11\n",
       "===================================================================================\n",
       "Ljung-Box (L1) (Q):                   2.83   Jarque-Bera (JB):                35.52\n",
       "Prob(Q):                              0.09   Prob(JB):                         0.00\n",
       "Heteroskedasticity (H):               1.37   Skew:                             0.17\n",
       "Prob(H) (two-sided):                  0.08   Kurtosis:                         4.49\n",
       "===================================================================================\n",
       "\n",
       "Warnings:\n",
       "[1] Covariance matrix calculated using the outer product of gradients (complex-step).\n",
       "[2] Covariance matrix is singular or near-singular, with condition number 4.98e+40. Standard errors may be unstable.\n",
       "\"\"\""
      ]
     },
     "execution_count": 15,
     "metadata": {},
     "output_type": "execute_result"
    }
   ],
   "source": [
    "stepwise_fit = auto_arima(df['Sales'], \n",
    "                          suppress_warnings=True)           \n",
    "\n",
    "stepwise_fit.summary()"
   ]
  },
  {
   "cell_type": "code",
   "execution_count": 23,
   "id": "a8dc0fb9-62e9-4704-9764-26075f6e5f19",
   "metadata": {},
   "outputs": [
    {
     "data": {
      "text/html": [
       "<table class=\"simpletable\">\n",
       "<caption>SARIMAX Results</caption>\n",
       "<tr>\n",
       "  <th>Dep. Variable:</th>         <td>Sales</td>      <th>  No. Observations:  </th>    <td>185</td>   \n",
       "</tr>\n",
       "<tr>\n",
       "  <th>Model:</th>            <td>ARIMA(0, 1, 2)</td>  <th>  Log Likelihood     </th> <td>-2585.480</td>\n",
       "</tr>\n",
       "<tr>\n",
       "  <th>Date:</th>            <td>Mon, 05 Aug 2024</td> <th>  AIC                </th> <td>5176.960</td> \n",
       "</tr>\n",
       "<tr>\n",
       "  <th>Time:</th>                <td>13:31:47</td>     <th>  BIC                </th> <td>5186.605</td> \n",
       "</tr>\n",
       "<tr>\n",
       "  <th>Sample:</th>                  <td>0</td>        <th>  HQIC               </th> <td>5180.869</td> \n",
       "</tr>\n",
       "<tr>\n",
       "  <th></th>                      <td> - 185</td>      <th>                     </th>     <td> </td>    \n",
       "</tr>\n",
       "<tr>\n",
       "  <th>Covariance Type:</th>        <td>opg</td>       <th>                     </th>     <td> </td>    \n",
       "</tr>\n",
       "</table>\n",
       "<table class=\"simpletable\">\n",
       "<tr>\n",
       "     <td></td>       <th>coef</th>     <th>std err</th>      <th>z</th>      <th>P>|z|</th>  <th>[0.025</th>    <th>0.975]</th>  \n",
       "</tr>\n",
       "<tr>\n",
       "  <th>ma.L1</th>  <td>   -0.3188</td> <td>    0.084</td> <td>   -3.789</td> <td> 0.000</td> <td>   -0.484</td> <td>   -0.154</td>\n",
       "</tr>\n",
       "<tr>\n",
       "  <th>ma.L2</th>  <td>   -0.6810</td> <td>    0.080</td> <td>   -8.461</td> <td> 0.000</td> <td>   -0.839</td> <td>   -0.523</td>\n",
       "</tr>\n",
       "<tr>\n",
       "  <th>sigma2</th> <td> 8.112e+10</td> <td> 1.33e-12</td> <td> 6.11e+22</td> <td> 0.000</td> <td> 8.11e+10</td> <td> 8.11e+10</td>\n",
       "</tr>\n",
       "</table>\n",
       "<table class=\"simpletable\">\n",
       "<tr>\n",
       "  <th>Ljung-Box (L1) (Q):</th>     <td>1.55</td> <th>  Jarque-Bera (JB):  </th> <td>12.45</td>\n",
       "</tr>\n",
       "<tr>\n",
       "  <th>Prob(Q):</th>                <td>0.21</td> <th>  Prob(JB):          </th> <td>0.00</td> \n",
       "</tr>\n",
       "<tr>\n",
       "  <th>Heteroskedasticity (H):</th> <td>0.70</td> <th>  Skew:              </th> <td>0.03</td> \n",
       "</tr>\n",
       "<tr>\n",
       "  <th>Prob(H) (two-sided):</th>    <td>0.17</td> <th>  Kurtosis:          </th> <td>4.27</td> \n",
       "</tr>\n",
       "</table><br/><br/>Warnings:<br/>[1] Covariance matrix calculated using the outer product of gradients (complex-step).<br/>[2] Covariance matrix is singular or near-singular, with condition number 2.69e+37. Standard errors may be unstable."
      ],
      "text/latex": [
       "\\begin{center}\n",
       "\\begin{tabular}{lclc}\n",
       "\\toprule\n",
       "\\textbf{Dep. Variable:}          &      Sales       & \\textbf{  No. Observations:  } &    185      \\\\\n",
       "\\textbf{Model:}                  &  ARIMA(0, 1, 2)  & \\textbf{  Log Likelihood     } & -2585.480   \\\\\n",
       "\\textbf{Date:}                   & Mon, 05 Aug 2024 & \\textbf{  AIC                } &  5176.960   \\\\\n",
       "\\textbf{Time:}                   &     13:31:47     & \\textbf{  BIC                } &  5186.605   \\\\\n",
       "\\textbf{Sample:}                 &        0         & \\textbf{  HQIC               } &  5180.869   \\\\\n",
       "\\textbf{}                        &       - 185      & \\textbf{                     } &             \\\\\n",
       "\\textbf{Covariance Type:}        &       opg        & \\textbf{                     } &             \\\\\n",
       "\\bottomrule\n",
       "\\end{tabular}\n",
       "\\begin{tabular}{lcccccc}\n",
       "                & \\textbf{coef} & \\textbf{std err} & \\textbf{z} & \\textbf{P$> |$z$|$} & \\textbf{[0.025} & \\textbf{0.975]}  \\\\\n",
       "\\midrule\n",
       "\\textbf{ma.L1}  &      -0.3188  &        0.084     &    -3.789  &         0.000        &       -0.484    &       -0.154     \\\\\n",
       "\\textbf{ma.L2}  &      -0.6810  &        0.080     &    -8.461  &         0.000        &       -0.839    &       -0.523     \\\\\n",
       "\\textbf{sigma2} &    8.112e+10  &     1.33e-12     &  6.11e+22  &         0.000        &     8.11e+10    &     8.11e+10     \\\\\n",
       "\\bottomrule\n",
       "\\end{tabular}\n",
       "\\begin{tabular}{lclc}\n",
       "\\textbf{Ljung-Box (L1) (Q):}     & 1.55 & \\textbf{  Jarque-Bera (JB):  } & 12.45  \\\\\n",
       "\\textbf{Prob(Q):}                & 0.21 & \\textbf{  Prob(JB):          } &  0.00  \\\\\n",
       "\\textbf{Heteroskedasticity (H):} & 0.70 & \\textbf{  Skew:              } &  0.03  \\\\\n",
       "\\textbf{Prob(H) (two-sided):}    & 0.17 & \\textbf{  Kurtosis:          } &  4.27  \\\\\n",
       "\\bottomrule\n",
       "\\end{tabular}\n",
       "%\\caption{SARIMAX Results}\n",
       "\\end{center}\n",
       "\n",
       "Warnings: \\newline\n",
       " [1] Covariance matrix calculated using the outer product of gradients (complex-step). \\newline\n",
       " [2] Covariance matrix is singular or near-singular, with condition number 2.69e+37. Standard errors may be unstable."
      ],
      "text/plain": [
       "<class 'statsmodels.iolib.summary.Summary'>\n",
       "\"\"\"\n",
       "                               SARIMAX Results                                \n",
       "==============================================================================\n",
       "Dep. Variable:                  Sales   No. Observations:                  185\n",
       "Model:                 ARIMA(0, 1, 2)   Log Likelihood               -2585.480\n",
       "Date:                Mon, 05 Aug 2024   AIC                           5176.960\n",
       "Time:                        13:31:47   BIC                           5186.605\n",
       "Sample:                             0   HQIC                          5180.869\n",
       "                                - 185                                         \n",
       "Covariance Type:                  opg                                         \n",
       "==============================================================================\n",
       "                 coef    std err          z      P>|z|      [0.025      0.975]\n",
       "------------------------------------------------------------------------------\n",
       "ma.L1         -0.3188      0.084     -3.789      0.000      -0.484      -0.154\n",
       "ma.L2         -0.6810      0.080     -8.461      0.000      -0.839      -0.523\n",
       "sigma2      8.112e+10   1.33e-12   6.11e+22      0.000    8.11e+10    8.11e+10\n",
       "===================================================================================\n",
       "Ljung-Box (L1) (Q):                   1.55   Jarque-Bera (JB):                12.45\n",
       "Prob(Q):                              0.21   Prob(JB):                         0.00\n",
       "Heteroskedasticity (H):               0.70   Skew:                             0.03\n",
       "Prob(H) (two-sided):                  0.17   Kurtosis:                         4.27\n",
       "===================================================================================\n",
       "\n",
       "Warnings:\n",
       "[1] Covariance matrix calculated using the outer product of gradients (complex-step).\n",
       "[2] Covariance matrix is singular or near-singular, with condition number 2.69e+37. Standard errors may be unstable.\n",
       "\"\"\""
      ]
     },
     "execution_count": 23,
     "metadata": {},
     "output_type": "execute_result"
    }
   ],
   "source": [
    "from statsmodels.tsa.arima.model import ARIMA\n",
    "model=ARIMA(train['Sales'],order=(0,1,2))\n",
    "model=model.fit()\n",
    "model.summary()\n"
   ]
  },
  {
   "cell_type": "code",
   "execution_count": 22,
   "id": "848b609e-8373-4123-b4da-04b10591947a",
   "metadata": {},
   "outputs": [
    {
     "name": "stdout",
     "output_type": "stream",
     "text": [
      "(365, 1)\n",
      "(185, 1) (180, 1)\n",
      "Sales    1921305.17\n",
      "Name: 05-07-2022, dtype: float64 Sales    1596155.34\n",
      "Name: 31-12-2022, dtype: float64\n"
     ]
    }
   ],
   "source": [
    "print(df.shape)\n",
    "train=df.iloc[:-30]\n",
    "test=df.iloc[-30:]\n",
    "print(train.shape,test.shape)\n",
    "print(test.iloc[0],test.iloc[-1])"
   ]
  },
  {
   "cell_type": "code",
   "execution_count": 28,
   "id": "d84e241c-c791-4e4b-963f-8ffc98e29303",
   "metadata": {},
   "outputs": [
    {
     "data": {
      "text/plain": [
       "<Axes: xlabel='Date'>"
      ]
     },
     "execution_count": 28,
     "metadata": {},
     "output_type": "execute_result"
    },
    {
     "data": {
      "image/png": "[encoded data removed]",
      "text/plain": [
       "<Figure size 640x480 with 1 Axes>"
      ]
     },
     "metadata": {},
     "output_type": "display_data"
    }
   ],
   "source": [
    "start=len(train)\n",
    "end=len(train)+len(test)-1\n",
    "#if the predicted values dont have date values as index, you will have to uncomment the following two commented lines to plot a graph\n",
    "#index_future_dates=pd.date_range(start='2018-12-01',end='2018-12-30')\n",
    "pred=model.predict(start=start,end=end,typ='levels').rename('ARIMA predictions')\n",
    "#pred.index=index_future_dates\n",
    "pred.plot(legend=True)\n",
    "test['Sales'].plot(legend=True)"
   ]
  },
  {
   "cell_type": "code",
   "execution_count": 25,
   "id": "361b5736-db56-447e-a3d1-625376c93241",
   "metadata": {},
   "outputs": [
    {
     "data": {
      "text/plain": [
       "<Axes: xlabel='Date'>"
      ]
     },
     "execution_count": 25,
     "metadata": {},
     "output_type": "execute_result"
    },
    {
     "data": {
      "image/png": "[encoded data removed]",
      "text/plain": [
       "<Figure size 640x480 with 1 Axes>"
      ]
     },
     "metadata": {},
     "output_type": "display_data"
    }
   ],
   "source": [
    "pred.plot(legend='ARIMA Predictions')\n",
    "test['Sales'].plot(legend=True)\n",
    "     "
   ]
  },
  {
   "cell_type": "code",
   "execution_count": 26,
   "id": "0441e9cf-460c-4f57-a73f-c275ba4cde72",
   "metadata": {},
   "outputs": [
    {
     "ename": "NameError",
     "evalue": "name 'model2' is not defined",
     "output_type": "error",
     "traceback": [
      "\u001b[1;31m---------------------------------------------------------------------------\u001b[0m",
      "\u001b[1;31mNameError\u001b[0m                                 Traceback (most recent call last)",
      "Cell \u001b[1;32mIn[26], line 3\u001b[0m\n\u001b[0;32m      1\u001b[0m index_future_dates\u001b[38;5;241m=\u001b[39mpd\u001b[38;5;241m.\u001b[39mdate_range(start\u001b[38;5;241m=\u001b[39m\u001b[38;5;124m'\u001b[39m\u001b[38;5;124m2018-12-30\u001b[39m\u001b[38;5;124m'\u001b[39m,end\u001b[38;5;241m=\u001b[39m\u001b[38;5;124m'\u001b[39m\u001b[38;5;124m2019-01-29\u001b[39m\u001b[38;5;124m'\u001b[39m)\n\u001b[0;32m      2\u001b[0m \u001b[38;5;66;03m#print(index_future_dates)\u001b[39;00m\n\u001b[1;32m----> 3\u001b[0m pred\u001b[38;5;241m=\u001b[39m\u001b[43mmodel2\u001b[49m\u001b[38;5;241m.\u001b[39mpredict(start\u001b[38;5;241m=\u001b[39m\u001b[38;5;28mlen\u001b[39m(df),end\u001b[38;5;241m=\u001b[39m\u001b[38;5;28mlen\u001b[39m(df)\u001b[38;5;241m+\u001b[39m\u001b[38;5;241m30\u001b[39m,typ\u001b[38;5;241m=\u001b[39m\u001b[38;5;124m'\u001b[39m\u001b[38;5;124mlevels\u001b[39m\u001b[38;5;124m'\u001b[39m)\u001b[38;5;241m.\u001b[39mrename(\u001b[38;5;124m'\u001b[39m\u001b[38;5;124mARIMA Predictions\u001b[39m\u001b[38;5;124m'\u001b[39m)\n\u001b[0;32m      4\u001b[0m \u001b[38;5;66;03m#print(comp_pred)\u001b[39;00m\n\u001b[0;32m      5\u001b[0m pred\u001b[38;5;241m.\u001b[39mindex\u001b[38;5;241m=\u001b[39mindex_future_dates\n",
      "\u001b[1;31mNameError\u001b[0m: name 'model2' is not defined"
     ]
    }
   ],
   "source": []
  },
  {
   "cell_type": "code",
   "execution_count": null,
   "id": "bb55825f-4506-46dc-acd2-90a6bcf23f34",
   "metadata": {},
   "outputs": [],
   "source": []
  }
 ],
 "metadata": {
  "kernelspec": {
   "display_name": "Python 3 (ipykernel)",
   "language": "python",
   "name": "python3"
  },
  "language_info": {
   "codemirror_mode": {
    "name": "ipython",
    "version": 3
   },
   "file_extension": ".py",
   "mimetype": "text/x-python",
   "name": "python",
   "nbconvert_exporter": "python",
   "pygments_lexer": "ipython3",
   "version": "3.12.3"
  }
 },
 "nbformat": 4,
 "nbformat_minor": 5
}
